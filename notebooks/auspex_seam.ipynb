{
  "cells": [
    {
      "cell_type": "code",
      "execution_count": null,
      "metadata": {},
      "outputs": [],
      "source": [
        "import numpy as np\n",
        "import pandas as pd\n",
        "from matplotlib import pyplot as plt\n",
        "\n",
        "import piplite\n",
        "await piplite.install(['mini-auspex', 'scipy'])\n",
        "from scipy.sparse import diags\n",
        "from parameter_estimation.intsurf_estimation import img_line, profile_fadmm"
      ]
    },
    {
      "cell_type": "code",
      "execution_count": null,
      "metadata": {},
      "outputs": [],
      "source": [
        "# %% Carrega uma imagem em formato numérico\n",
        "data = pd.read_csv('TFM.csv')\n",
        "image = pd.DataFrame.to_numpy(data)"
      ]
    },
    {
      "cell_type": "code",
      "execution_count": null,
      "metadata": {},
      "outputs": [],
      "source": [
        "x = np.max(image[:,0])"
      ]
    },
    {
      "cell_type": "code",
      "execution_count": null,
      "metadata": {},
      "outputs": [],
      "source": [
        "# # Surface Estimation\n",
        "z, w = img_line(image)\n",
        "w = np.diag(w)"
      ]
    },
    {
      "cell_type": "code",
      "execution_count": null,
      "metadata": {},
      "outputs": [],
      "source": [
        "lamb = 20\n",
        "rho = 100\n",
        "profile = profile_fadmm(w, z, lamb, x0=z, rho=rho, eta=.999, itmax=250, tol=1e-6, max_iter_cg=1500)"
      ]
    },
    {
      "cell_type": "code",
      "execution_count": null,
      "metadata": {},
      "outputs": [],
      "source": [
        "plt.figure()\n",
        "plt.imshow(image, aspect='equal', cmap='gist_yarg')\n",
        "plt.plot(profile[0], ':', label='SEAM', color='red')\n",
        "plt.legend()"
      ]
    }
  ],
  "metadata": {
    "kernelspec": {
      "display_name": "Python (Pyodide)",
      "language": "python",
      "name": "python"
    },
    "language_info": {
      "codemirror_mode": {
        "name": "python",
        "version": 3
      },
      "file_extension": ".py",
      "mimetype": "text/x-python",
      "name": "python",
      "nbconvert_exporter": "python",
      "pygments_lexer": "ipython3",
      "version": "3.8"
    }
  },
  "nbformat": 4,
  "nbformat_minor": 4
}
