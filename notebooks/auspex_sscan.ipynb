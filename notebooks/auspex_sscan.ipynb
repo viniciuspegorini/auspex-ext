{
  "cells": [
    {
      "cell_type": "code",
      "execution_count": 1,
      "metadata": {
        "trusted": true
      },
      "outputs": [],
      "source": [
        "import piplite\n",
        "await piplite.install(['mini-auspex', 'scipy'])\n",
        "import numpy as np\n",
        "import matplotlib.pyplot as plt\n",
        "from framework import file_m2k, post_proc, file_civa\n",
        "from framework.post_proc import envelope"
      ]
    },
    {
      "cell_type": "code",
      "execution_count": 2,
      "metadata": {
        "trusted": true
      },
      "outputs": [],
      "source": [
        "root = \"\""
      ]
    },
    {
      "cell_type": "code",
      "execution_count": null,
      "metadata": {
        "trusted": true
      },
      "outputs": [],
      "source": [
        "data = file_m2k.read(root + 'test.m2k', type_insp='contact', water_path=0, freq_transd=5, bw_transd=0.5,\n",
        "                     tp_transd='gaussian', sel_shots=0)\n",
        "\n",
        "data_ref = file_m2k.read(root + 'test_ref.m2k', type_insp='contact',  water_path=0, freq_transd=5, bw_transd=0.5,\n",
        "                         tp_transd='gaussian', sel_shots=0)"
      ]
    },
    {
      "cell_type": "code",
      "execution_count": null,
      "metadata": {
        "trusted": true
      },
      "outputs": [],
      "source": [
        "t_span = data.time_grid[:, 0]\n",
        "ang_span = np.linspace(-40, 40, 161)\n",
        "\n",
        "img = np.sum(data.ascan_data - data_ref.ascan_data, axis=2)\n",
        "img_en = envelope(np.sum(data.ascan_data - data_ref.ascan_data, axis=2), axis=0)\n",
        "log_cte = 1e-1\n",
        "img_log = np.log10(img_en + log_cte)\n",
        "\n",
        "plt.figure()\n",
        "plt.title(\"S-scan\")\n",
        "plt.imshow(img_log, extent=[ang_span[0], ang_span[-1], t_span[-1], t_span[0]], aspect='equal', cmap=\"magma\")"
      ]
    },
    {
      "cell_type": "code",
      "execution_count": null,
      "metadata": {},
      "outputs": [],
      "source": []
    }
  ],
  "metadata": {
    "kernelspec": {
      "display_name": "Python (Pyodide)",
      "language": "python",
      "name": "python"
    },
    "language_info": {
      "codemirror_mode": {
        "name": "python",
        "version": 3
      },
      "file_extension": ".py",
      "mimetype": "text/x-python",
      "name": "python",
      "nbconvert_exporter": "python",
      "pygments_lexer": "ipython3",
      "version": "3.8"
    }
  },
  "nbformat": 4,
  "nbformat_minor": 4
}
