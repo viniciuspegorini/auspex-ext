{
  "cells": [
    {
      "cell_type": "code",
      "execution_count": 7,
      "metadata": {
        "trusted": true
      },
      "outputs": [],
      "source": [
        "import numpy as np\n",
        "from matplotlib import pyplot as plt\n",
        "from zipfile import ZipFile\n",
        "\n",
        "import piplite\n",
        "await piplite.install(['mini-auspex', 'scipy'])\n",
        "from framework import file_m2k, post_proc\n",
        "from framework.data_types import ImagingROI\n",
        "from imaging import tfm"
      ]
    },
    {
      "cell_type": "code",
      "execution_count": null,
      "metadata": {
        "trusted": true
      },
      "outputs": [],
      "source": [
        "data = file_m2k.read(\"test.m2k\")"
      ]
    },
    {
      "cell_type": "code",
      "execution_count": null,
      "metadata": {
        "trusted": true
      },
      "outputs": [],
      "source": [
        "corner_roi = np.array([-10.0, 0.0, 30.0])[np.newaxis, :]\n",
        "roi = ImagingROI(corner_roi, height=20.0, width=20.0, h_len=200, w_len=200)\n",
        "\n",
        "key = tfm.tfm_kernel(data, roi=roi, sel_shot=0, c=5900.0)\n",
        "image_out = data.imaging_results[key].image\n",
        "\n",
        "plt.imshow(post_proc.envelope(image_out), aspect='auto',\n",
        "           extent=[roi.w_points[0], roi.w_points[-1], roi.h_points[-1], roi.h_points[0]])\n",
        "plt.title('TFM')\n",
        "display(plt)"
      ]
    },
    {
      "cell_type": "code",
      "execution_count": null,
      "metadata": {},
      "outputs": [],
      "source": []
    }
  ],
  "metadata": {
    "kernelspec": {
      "display_name": "Python (Pyodide)",
      "language": "python",
      "name": "python"
    },
    "language_info": {
      "codemirror_mode": {
        "name": "python",
        "version": 3
      },
      "file_extension": ".py",
      "mimetype": "text/x-python",
      "name": "python",
      "nbconvert_exporter": "python",
      "pygments_lexer": "ipython3",
      "version": "3.8"
    }
  },
  "nbformat": 4,
  "nbformat_minor": 4
}
